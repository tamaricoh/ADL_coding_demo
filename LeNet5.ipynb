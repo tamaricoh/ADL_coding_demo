{
 "cells": [
  {
   "cell_type": "code",
   "execution_count": 3,
   "metadata": {},
   "outputs": [],
   "source": [
    "import torch\n",
    "import torch.nn as nn\n",
    "import torch.nn.functional as F"
   ]
  },
  {
   "cell_type": "code",
   "execution_count": 4,
   "metadata": {},
   "outputs": [],
   "source": [
    "class LeNet5(nn.Module):\n",
    "\tdef __init__(self, output_dim):\n",
    "\t\tsuper().__init__()\n",
    "\n",
    "\t\tself.conv1 = nn.Conv2d(in_channels=3,\n",
    "\t\t\t\t\t\t\t   out_channels=6,\n",
    "\t\t\t\t\t\t\t   kernel_size=5)\n",
    "\t\tself.conv2 = nn.Conv2d(in_channels=6,\n",
    "\t\t\t\t\t\t\t   out_channels=16,\n",
    "\t\t\t\t\t\t\t   kernel_size=5)\n",
    "\n",
    "\t\tself.fc1 = nn.Linear(16 * 5 * 5, 120)\n",
    "\t\tself.fc2 = nn.Linear(120, 84)\n",
    "\t\tself.fc3 = nn.Linear(84, output_dim)\n",
    "\n",
    "\t\tself.pool = nn.AvgPool2d(2, 2)\n",
    "\t\tself.relu = nn.ReLU(inplace=True)\n",
    "\n",
    "\tdef forward(self, x):\n",
    "\t\tx = self.relu(self.pool(self.conv1(x)))\n",
    "\t\tx = self.relu(self.pool(self.conv2(x)))\n",
    "\t\tx = torch.flatten(x, 1)\n",
    "\t\tx = F.relu(self.fc1(x))\t\t# orig LeNet5 used sigmoid\n",
    "\t\tx = F.relu(self.fc2(x))\t\t# orig LeNet5 used sigmoid\n",
    "\t\tx = self.fc3(x)\n",
    "\t\treturn x"
   ]
  }
 ],
 "metadata": {
  "kernelspec": {
   "display_name": "adl",
   "language": "python",
   "name": "python3"
  },
  "language_info": {
   "codemirror_mode": {
    "name": "ipython",
    "version": 3
   },
   "file_extension": ".py",
   "mimetype": "text/x-python",
   "name": "python",
   "nbconvert_exporter": "python",
   "pygments_lexer": "ipython3",
   "version": "3.8.16"
  },
  "orig_nbformat": 4
 },
 "nbformat": 4,
 "nbformat_minor": 2
}
