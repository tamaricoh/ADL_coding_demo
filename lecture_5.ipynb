{
 "cells": [
  {
   "cell_type": "code",
   "execution_count": 53,
   "metadata": {},
   "outputs": [],
   "source": [
    "import numpy as np\n",
    "import matplotlib.pyplot as plt\n",
    "import torch\n",
    "import torch.nn as nn\n",
    "import torchvision\n",
    "import torchvision.transforms as transforms\n",
    "from torch.nn.parameter import Parameter"
   ]
  },
  {
   "cell_type": "markdown",
   "metadata": {},
   "source": [
    "## XOR - np\n",
    "\n",
    "Implement the forward pass for approximating the XOR function"
   ]
  },
  {
   "cell_type": "code",
   "execution_count": 10,
   "metadata": {},
   "outputs": [
    {
     "name": "stdout",
     "output_type": "stream",
     "text": [
      "X @ W :\n",
      "[[0 0]\n",
      " [1 1]\n",
      " [1 1]\n",
      " [2 2]]\n",
      "\n",
      "X @ W + c :\n",
      "[[ 0 -1]\n",
      " [ 1  0]\n",
      " [ 1  0]\n",
      " [ 2  1]]\n",
      "\n",
      "relu(X @ W + c) :\n",
      "[[0. 0.]\n",
      " [1. 0.]\n",
      " [1. 0.]\n",
      " [2. 1.]]\n",
      "\n",
      "relu(X @ W + c) @ u.T:\n",
      "[0. 1. 1. 0.]\n"
     ]
    }
   ],
   "source": [
    "relu = lambda x: np.maximum(np.zeros(x.shape), x)\n",
    "xor = lambda u, W, c, x: u.T @ relu(W.T @ x + c)\n",
    "# we can potentially also introduce another bias b\n",
    "\n",
    "W = np.random.rand(2, 2)\n",
    "u, c = np.random.rand(2), np.random.rand(2)\n",
    "\n",
    "x = np.array([0, 0])\n",
    "for ii in range(1):\n",
    "\tfx = xor(u, W, c, x)\n",
    "\t# x = x - eps * grad\n",
    "\n",
    "# To make the above algorithm complete, we need to compute the derivative of fx wrt x\n",
    "\n",
    "# Instead, we take the (analytic) solution from the book (page 170)\n",
    "W = np.array([[1, 1], [1, 1]])\n",
    "c = np.array([0, -1])\n",
    "u = np.array([1, -2])\n",
    "\n",
    "X = np.array([[0, 0], [0, 1], [1, 0], [1, 1]])\n",
    "\n",
    "print('X @ W :')\n",
    "print(X @ W)\n",
    "print()\n",
    "print('X @ W + c :')\n",
    "print(X @ W + c)\n",
    "print()\n",
    "print('relu(X @ W + c) :')\n",
    "print(relu(X @ W + c))\n",
    "print()\n",
    "print('relu(X @ W + c) @ u.T:')\n",
    "print(relu(X @ W + c)@ u.T)"
   ]
  },
  {
   "cell_type": "code",
   "execution_count": 11,
   "metadata": {},
   "outputs": [
    {
     "data": {
      "image/png": "[encoded data removed]",
      "text/plain": [
       "<Figure size 640x480 with 1 Axes>"
      ]
     },
     "metadata": {},
     "output_type": "display_data"
    }
   ],
   "source": [
    "H = relu(X @ W + c)\n",
    "plt.scatter(H[:, 0], H[:, 1])\n",
    "plt.title('Hidden Representation')\n",
    "plt.xlabel('h1')\n",
    "plt.ylabel('h2')\n",
    "plt.show()\n"
   ]
  },
  {
   "cell_type": "markdown",
   "metadata": {},
   "source": [
    "## XOR - torch"
   ]
  },
  {
   "cell_type": "code",
   "execution_count": 47,
   "metadata": {},
   "outputs": [],
   "source": [
    "# Setup device\n",
    "device = torch.device('cuda' if torch.cuda.is_available() else 'cpu')"
   ]
  },
  {
   "cell_type": "code",
   "execution_count": 48,
   "metadata": {},
   "outputs": [],
   "source": [
    "class NeuralNet(torch.nn.Module):\n",
    "\tdef __init__(self):\n",
    "\t\tsuper(NeuralNet, self).__init__()\n",
    "\t\tself.fc1 = torch.nn.Linear(2, 2, bias=True) \n",
    "\t\tself.relu = torch.nn.ReLU()\n",
    "\t\tself.fc2 = torch.nn.Linear(2, 1, bias=False)  \n",
    "\n",
    "\tdef forward(self, x):\n",
    "\t\tout = self.fc1(x)\n",
    "\t\tout = self.relu(out)\n",
    "\t\tout = self.fc2(out)\n",
    "\t\treturn out\n",
    "\n",
    "\n",
    "learning_rate = 0.1\n",
    "model = NeuralNet().to(device)\n",
    "criterion = torch.nn.MSELoss()\n",
    "optimizer = torch.optim.Adam(model.parameters(), lr=learning_rate)"
   ]
  },
  {
   "cell_type": "code",
   "execution_count": 49,
   "metadata": {},
   "outputs": [],
   "source": [
    "# Sets parameters\n",
    "\n",
    "W = np.array([[1, 1], [1, 1]]).astype(np.float32) + 0.1*np.random.rand(2, 2).astype(np.float32)\n",
    "c = np.array([0, -1]).astype(np.float32) + 0.1*np.random.rand(2).astype(np.float32)\n",
    "u = np.array([1, -2]).astype(np.float32) + 0.1*np.random.rand(2).astype(np.float32)\n",
    "\n",
    "model.fc1.weight = Parameter(torch.from_numpy(W))\n",
    "model.fc1.bias = Parameter(torch.from_numpy(c))\n",
    "model.fc2.weight = Parameter(torch.from_numpy(u))"
   ]
  },
  {
   "cell_type": "code",
   "execution_count": 50,
   "metadata": {},
   "outputs": [],
   "source": [
    "#  Sets data and target\n",
    "X = torch.from_numpy(np.array([[0, 0], [0, 1], [1, 0], [1, 1]]).astype(np.float32))\n",
    "Y = torch.from_numpy(np.array([0, 1, 1, 0]).astype(np.float32))"
   ]
  },
  {
   "cell_type": "code",
   "execution_count": 51,
   "metadata": {},
   "outputs": [
    {
     "name": "stdout",
     "output_type": "stream",
     "text": [
      "Epoch 99, loss = 0.0058\n",
      "Epoch 199, loss = 0.0058\n",
      "Epoch 299, loss = 0.0058\n",
      "Epoch 399, loss = 0.0058\n",
      "Epoch 499, loss = 0.0058\n",
      "Epoch 599, loss = 0.0058\n",
      "Epoch 699, loss = 0.0058\n",
      "Epoch 799, loss = 0.0058\n",
      "Epoch 899, loss = 0.0058\n",
      "Epoch 999, loss = 0.0058\n",
      "Epoch 1099, loss = 0.0058\n",
      "Epoch 1199, loss = 0.0058\n",
      "Epoch 1299, loss = 0.0058\n",
      "Epoch 1399, loss = 0.0058\n",
      "Epoch 1499, loss = 0.0058\n",
      "Epoch 1599, loss = 0.0058\n",
      "Epoch 1699, loss = 0.0058\n",
      "Epoch 1799, loss = 0.0058\n",
      "Epoch 1899, loss = 0.0058\n",
      "Epoch 1999, loss = 0.0058\n",
      "Epoch 2099, loss = 0.0058\n",
      "Epoch 2199, loss = 0.0058\n",
      "Epoch 2299, loss = 0.0058\n",
      "Epoch 2399, loss = 0.0058\n",
      "Epoch 2499, loss = 0.0058\n",
      "Epoch 2599, loss = 0.0058\n",
      "Epoch 2699, loss = 0.0058\n",
      "Epoch 2799, loss = 0.0058\n",
      "Epoch 2899, loss = 0.0058\n",
      "Epoch 2999, loss = 0.0058\n",
      "Epoch 3099, loss = 0.0058\n",
      "Epoch 3199, loss = 0.0058\n",
      "Epoch 3299, loss = 0.0058\n",
      "Epoch 3399, loss = 0.0058\n",
      "Epoch 3499, loss = 0.0058\n",
      "Epoch 3599, loss = 0.0058\n",
      "Epoch 3699, loss = 0.0058\n",
      "Epoch 3799, loss = 0.0058\n",
      "Epoch 3899, loss = 0.0058\n",
      "Epoch 3999, loss = 0.0058\n",
      "Epoch 4099, loss = 0.0058\n",
      "Epoch 4199, loss = 0.0058\n",
      "Epoch 4299, loss = 0.0058\n",
      "Epoch 4399, loss = 0.0058\n",
      "Epoch 4499, loss = 0.0058\n",
      "Epoch 4599, loss = 0.0058\n",
      "Epoch 4699, loss = 0.0058\n",
      "Epoch 4799, loss = 0.0058\n",
      "Epoch 4899, loss = 0.0058\n",
      "Epoch 4999, loss = 0.0058\n",
      "Epoch 5099, loss = 0.0058\n",
      "Epoch 5199, loss = 0.0058\n",
      "Epoch 5299, loss = 0.0058\n",
      "Epoch 5399, loss = 0.0058\n",
      "Epoch 5499, loss = 0.0058\n",
      "Epoch 5599, loss = 0.0058\n",
      "Epoch 5699, loss = 0.0058\n",
      "Epoch 5799, loss = 0.0058\n",
      "Epoch 5899, loss = 0.0058\n",
      "Epoch 5999, loss = 0.0058\n",
      "Epoch 6099, loss = 0.0058\n",
      "Epoch 6199, loss = 0.0058\n",
      "Epoch 6299, loss = 0.0058\n",
      "Epoch 6399, loss = 0.0058\n",
      "Epoch 6499, loss = 0.0058\n",
      "Epoch 6599, loss = 0.0058\n",
      "Epoch 6699, loss = 0.0058\n",
      "Epoch 6799, loss = 0.0058\n",
      "Epoch 6899, loss = 0.0058\n",
      "Epoch 6999, loss = 0.0058\n",
      "Epoch 7099, loss = 0.0058\n",
      "Epoch 7199, loss = 0.0058\n",
      "Epoch 7299, loss = 0.0058\n",
      "Epoch 7399, loss = 0.0058\n",
      "Epoch 7499, loss = 0.0058\n",
      "Epoch 7599, loss = 0.0058\n",
      "Epoch 7699, loss = 0.0058\n",
      "Epoch 7799, loss = 0.0058\n",
      "Epoch 7899, loss = 0.0058\n",
      "Epoch 7999, loss = 0.0058\n",
      "Epoch 8099, loss = 0.0058\n",
      "Epoch 8199, loss = 0.0058\n",
      "Epoch 8299, loss = 0.0058\n",
      "Epoch 8399, loss = 0.0058\n",
      "Epoch 8499, loss = 0.0058\n",
      "Epoch 8599, loss = 0.0058\n",
      "Epoch 8699, loss = 0.0058\n",
      "Epoch 8799, loss = 0.0058\n",
      "Epoch 8899, loss = 0.0058\n",
      "Epoch 8999, loss = 0.0058\n",
      "Epoch 9099, loss = 0.0058\n",
      "Epoch 9199, loss = 0.0058\n",
      "Epoch 9299, loss = 0.0058\n",
      "Epoch 9399, loss = 0.0058\n",
      "Epoch 9499, loss = 0.0058\n",
      "Epoch 9599, loss = 0.0058\n",
      "Epoch 9699, loss = 0.0058\n",
      "Epoch 9799, loss = 0.0058\n",
      "Epoch 9899, loss = 0.0058\n",
      "Epoch 9999, loss = 0.0058\n"
     ]
    }
   ],
   "source": [
    "# Train the model\n",
    "for j in range(10000):\n",
    "\t\n",
    "\toutputs = model(X)\n",
    "\tloss = criterion(outputs, Y)\n",
    "\n",
    "\toptimizer.zero_grad()\n",
    "\tloss.backward()\n",
    "\toptimizer.step()\n",
    "\n",
    "\tif (j+1) % 100 == 0: \n",
    "\t\tprint('Epoch {}, loss = {:.4f}'.format(j, loss.item()))\n",
    "\n"
   ]
  },
  {
   "cell_type": "code",
   "execution_count": 52,
   "metadata": {},
   "outputs": [
    {
     "name": "stdout",
     "output_type": "stream",
     "text": [
      "[ 0.0142457   0.87374294  0.9420831  -0.06114657]\n",
      "[[1.0342499 1.0920776]\n",
      " [1.0082178 1.0727432]]\n",
      "[ 0.01400441 -0.9451802 ]\n",
      "[ 1.0172297 -1.9707638]\n"
     ]
    }
   ],
   "source": [
    "O = model(X)\n",
    "print(O.detach().cpu().numpy())\n",
    "\n",
    "print(model.fc1.weight.detach().numpy())\n",
    "print(model.fc1.bias.detach().numpy())\n",
    "print(model.fc2.weight.detach().numpy())"
   ]
  },
  {
   "cell_type": "markdown",
   "metadata": {},
   "source": [
    "## Using torch \n",
    "\n",
    "Introduce the MNIST dataset"
   ]
  },
  {
   "cell_type": "code",
   "execution_count": 56,
   "metadata": {},
   "outputs": [],
   "source": [
    "# Setup device\n",
    "device = torch.device('cuda' if torch.cuda.is_available() else 'cpu')"
   ]
  },
  {
   "cell_type": "code",
   "execution_count": 57,
   "metadata": {},
   "outputs": [],
   "source": [
    "# Hyperparameters\n",
    "input_size = 784\n",
    "hidden_size = 500\n",
    "num_classes = 10\n",
    "num_epochs = 5\n",
    "batch_size = 100\n",
    "learning_rate = 0.001"
   ]
  },
  {
   "cell_type": "code",
   "execution_count": 58,
   "metadata": {},
   "outputs": [
    {
     "name": "stdout",
     "output_type": "stream",
     "text": [
      "Downloading http://yann.lecun.com/exdb/mnist/train-images-idx3-ubyte.gz\n"
     ]
    },
    {
     "name": "stderr",
     "output_type": "stream",
     "text": [
      "0.3%"
     ]
    },
    {
     "name": "stdout",
     "output_type": "stream",
     "text": [
      "Downloading http://yann.lecun.com/exdb/mnist/train-images-idx3-ubyte.gz to ./data/MNIST\\raw\\train-images-idx3-ubyte.gz\n"
     ]
    },
    {
     "name": "stderr",
     "output_type": "stream",
     "text": [
      "100.0%\n"
     ]
    },
    {
     "name": "stdout",
     "output_type": "stream",
     "text": [
      "Extracting ./data/MNIST\\raw\\train-images-idx3-ubyte.gz to ./data/MNIST\\raw\n",
      "\n",
      "Downloading http://yann.lecun.com/exdb/mnist/train-labels-idx1-ubyte.gz\n",
      "Downloading http://yann.lecun.com/exdb/mnist/train-labels-idx1-ubyte.gz to ./data/MNIST\\raw\\train-labels-idx1-ubyte.gz\n"
     ]
    },
    {
     "name": "stderr",
     "output_type": "stream",
     "text": [
      "100.0%\n"
     ]
    },
    {
     "name": "stdout",
     "output_type": "stream",
     "text": [
      "Extracting ./data/MNIST\\raw\\train-labels-idx1-ubyte.gz to ./data/MNIST\\raw\n",
      "\n",
      "Downloading http://yann.lecun.com/exdb/mnist/t10k-images-idx3-ubyte.gz\n",
      "Downloading http://yann.lecun.com/exdb/mnist/t10k-images-idx3-ubyte.gz to ./data/MNIST\\raw\\t10k-images-idx3-ubyte.gz\n"
     ]
    },
    {
     "name": "stderr",
     "output_type": "stream",
     "text": [
      "100.0%\n"
     ]
    },
    {
     "name": "stdout",
     "output_type": "stream",
     "text": [
      "Extracting ./data/MNIST\\raw\\t10k-images-idx3-ubyte.gz to ./data/MNIST\\raw\n",
      "\n",
      "Downloading http://yann.lecun.com/exdb/mnist/t10k-labels-idx1-ubyte.gz\n"
     ]
    },
    {
     "name": "stderr",
     "output_type": "stream",
     "text": [
      "100.0%"
     ]
    },
    {
     "name": "stdout",
     "output_type": "stream",
     "text": [
      "Downloading http://yann.lecun.com/exdb/mnist/t10k-labels-idx1-ubyte.gz to ./data/MNIST\\raw\\t10k-labels-idx1-ubyte.gz\n",
      "Extracting ./data/MNIST\\raw\\t10k-labels-idx1-ubyte.gz to ./data/MNIST\\raw\n",
      "\n"
     ]
    },
    {
     "name": "stderr",
     "output_type": "stream",
     "text": [
      "\n"
     ]
    }
   ],
   "source": [
    "# MNIST dataset\n",
    "train_dataset = torchvision.datasets.MNIST(root='./data/',\n",
    "\t\t\t\t\t\t\t\t\t\t   train=True,\n",
    "\t\t\t\t\t\t\t\t\t\t   transform=transforms.ToTensor(),\n",
    "\t\t\t\t\t\t\t\t\t\t   download=True)\n",
    "\n",
    "test_dataset = torchvision.datasets.MNIST(root='./data/',\n",
    "\t\t\t\t\t\t\t\t\t\t  train=False,\n",
    "\t\t\t\t\t\t\t\t\t\t  transform=transforms.ToTensor())"
   ]
  },
  {
   "cell_type": "code",
   "execution_count": 59,
   "metadata": {},
   "outputs": [],
   "source": [
    "# Data loader\n",
    "train_loader = torch.utils.data.DataLoader(dataset=train_dataset,\n",
    "\t\t\t\t\t\t\t\t\t\t   batch_size=batch_size,\n",
    "\t\t\t\t\t\t\t\t\t\t   shuffle=True)\n",
    "\n",
    "test_loader = torch.utils.data.DataLoader(dataset=test_dataset,\n",
    "\t\t\t\t\t\t\t\t\t\t  batch_size=batch_size,\n",
    "\t\t\t\t\t\t\t\t\t\t  shuffle=False)"
   ]
  },
  {
   "cell_type": "code",
   "execution_count": 60,
   "metadata": {},
   "outputs": [],
   "source": [
    "images, labels = next(iter(train_loader))"
   ]
  },
  {
   "cell_type": "code",
   "execution_count": 61,
   "metadata": {},
   "outputs": [
    {
     "data": {
      "image/png": "[encoded data removed]",
      "text/plain": [
       "<Figure size 640x480 with 10 Axes>"
      ]
     },
     "metadata": {},
     "output_type": "display_data"
    }
   ],
   "source": [
    "fig, axs = plt.subplots(2, 5)\n",
    "for ii in range(2):\n",
    "\tfor jj in range(5):\n",
    "\t\tidx = 5 * ii + jj\n",
    "\t\taxs[ii, jj].imshow(images[idx].squeeze())\n",
    "\t\taxs[ii, jj].set_title(labels[idx].item())\n",
    "\t\taxs[ii, jj].axis('off')\n",
    "plt.show()"
   ]
  },
  {
   "cell_type": "code",
   "execution_count": 62,
   "metadata": {},
   "outputs": [],
   "source": [
    "# Fully connected neural network\n",
    "class NeuralNet(nn.Module):\n",
    "\tdef __init__(self, input_size, hidden_size, num_classes):\n",
    "\t\tsuper(NeuralNet, self).__init__()\n",
    "\t\tself.fc1 = nn.Linear(input_size, hidden_size) \n",
    "\t\tself.relu = nn.ReLU()\n",
    "\t\tself.fc2 = nn.Linear(hidden_size, num_classes)  \n",
    "\n",
    "\tdef forward(self, x):\n",
    "\t\tout = self.fc1(x)\n",
    "\t\tout = self.relu(out)\n",
    "\t\tout = self.fc2(out)\n",
    "\t\treturn out"
   ]
  },
  {
   "cell_type": "code",
   "execution_count": 63,
   "metadata": {},
   "outputs": [],
   "source": [
    "model = NeuralNet(input_size, hidden_size, num_classes).to(device)\n",
    "criterion = nn.CrossEntropyLoss()\n",
    "optimizer = torch.optim.Adam(model.parameters(), lr=learning_rate)"
   ]
  },
  {
   "cell_type": "code",
   "execution_count": 64,
   "metadata": {},
   "outputs": [
    {
     "name": "stdout",
     "output_type": "stream",
     "text": [
      "Epoch [1/5], Step [100/600], Loss: 0.2922\n",
      "Epoch [1/5], Step [200/600], Loss: 0.2797\n",
      "Epoch [1/5], Step [300/600], Loss: 0.2837\n",
      "Epoch [1/5], Step [400/600], Loss: 0.2091\n",
      "Epoch [1/5], Step [500/600], Loss: 0.0991\n",
      "Epoch [1/5], Step [600/600], Loss: 0.1407\n",
      "Epoch [2/5], Step [100/600], Loss: 0.1582\n",
      "Epoch [2/5], Step [200/600], Loss: 0.0643\n",
      "Epoch [2/5], Step [300/600], Loss: 0.2297\n",
      "Epoch [2/5], Step [400/600], Loss: 0.0535\n",
      "Epoch [2/5], Step [500/600], Loss: 0.1064\n",
      "Epoch [2/5], Step [600/600], Loss: 0.1306\n",
      "Epoch [3/5], Step [100/600], Loss: 0.0305\n",
      "Epoch [3/5], Step [200/600], Loss: 0.1310\n",
      "Epoch [3/5], Step [300/600], Loss: 0.0429\n",
      "Epoch [3/5], Step [400/600], Loss: 0.0476\n",
      "Epoch [3/5], Step [500/600], Loss: 0.0865\n",
      "Epoch [3/5], Step [600/600], Loss: 0.0656\n",
      "Epoch [4/5], Step [100/600], Loss: 0.0646\n",
      "Epoch [4/5], Step [200/600], Loss: 0.0557\n",
      "Epoch [4/5], Step [300/600], Loss: 0.1061\n",
      "Epoch [4/5], Step [400/600], Loss: 0.0275\n",
      "Epoch [4/5], Step [500/600], Loss: 0.0694\n",
      "Epoch [4/5], Step [600/600], Loss: 0.0916\n",
      "Epoch [5/5], Step [100/600], Loss: 0.0123\n",
      "Epoch [5/5], Step [200/600], Loss: 0.0624\n",
      "Epoch [5/5], Step [300/600], Loss: 0.0770\n",
      "Epoch [5/5], Step [400/600], Loss: 0.0386\n",
      "Epoch [5/5], Step [500/600], Loss: 0.0213\n",
      "Epoch [5/5], Step [600/600], Loss: 0.0466\n"
     ]
    }
   ],
   "source": [
    "# train the model\n",
    "total_step = len(train_loader)\n",
    "for epoch in range(num_epochs):\n",
    "\tfor i, (images, labels) in enumerate(train_loader):\n",
    "\t\timages = images.reshape(-1, input_size).to(device)\n",
    "\t\tlabels = labels.to(device)\n",
    "\n",
    "\t\toutputs = model(images)\n",
    "\t\tloss = criterion(outputs, labels)\n",
    "\n",
    "\t\toptimizer.zero_grad()\n",
    "\t\tloss.backward()\n",
    "\t\toptimizer.step()\n",
    "\n",
    "\t\tif (i+1) % 100 == 0:\n",
    "\t\t\tprint('Epoch [{}/{}], Step [{}/{}], Loss: {:.4f}'\n",
    "\t\t\t\t.format(epoch+1, num_epochs, i+1, total_step, loss.item()))"
   ]
  },
  {
   "cell_type": "code",
   "execution_count": 65,
   "metadata": {},
   "outputs": [
    {
     "name": "stdout",
     "output_type": "stream",
     "text": [
      "Accuracy of the network on the 10000 test images: 97.79 %\n"
     ]
    }
   ],
   "source": [
    "# test the model\n",
    "with torch.no_grad():\n",
    "    correct = 0\n",
    "    total = 0\n",
    "    for images, labels in test_loader:\n",
    "        images = images.reshape(-1, 28*28).to(device)\n",
    "        labels = labels.to(device)\n",
    "        outputs = model(images)\n",
    "        _, predicted = torch.max(outputs.data, 1)\n",
    "        total += labels.size(0)\n",
    "        correct += (predicted == labels).sum().item()\n",
    "    print('Accuracy of the network on the 10000 test images: {} %'.format(100 * correct / total))"
   ]
  }
 ],
 "metadata": {
  "kernelspec": {
   "display_name": "adl",
   "language": "python",
   "name": "python3"
  },
  "language_info": {
   "codemirror_mode": {
    "name": "ipython",
    "version": 3
   },
   "file_extension": ".py",
   "mimetype": "text/x-python",
   "name": "python",
   "nbconvert_exporter": "python",
   "pygments_lexer": "ipython3",
   "version": "3.8.16"
  },
  "orig_nbformat": 4
 },
 "nbformat": 4,
 "nbformat_minor": 2
}
