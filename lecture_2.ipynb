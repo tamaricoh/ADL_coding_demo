{
 "cells": [
  {
   "cell_type": "code",
   "execution_count": 1,
   "metadata": {},
   "outputs": [],
   "source": [
    "import numpy as np\n",
    "import matplotlib.pyplot as plt\n",
    "import time"
   ]
  },
  {
   "cell_type": "code",
   "execution_count": 2,
   "metadata": {},
   "outputs": [
    {
     "name": "stdout",
     "output_type": "stream",
     "text": [
      "np version 1.23.5\n",
      "\n"
     ]
    }
   ],
   "source": [
    "print(f'np version {np.__version__}\\n')"
   ]
  },
  {
   "cell_type": "markdown",
   "metadata": {},
   "source": [
    "### Floating points\n",
    "what is a zero in the computer? when doing computer computations?"
   ]
  },
  {
   "cell_type": "code",
   "execution_count": 12,
   "metadata": {},
   "outputs": [
    {
     "name": "stdout",
     "output_type": "stream",
     "text": [
      "Case No.1\n",
      "0.1 + 0.2 == 0.3 ? False, although we expected True\n",
      "0.1 + 0.2 = 0.30000000000000004 != 0.3\n",
      "Case No.2\n",
      "0.8 - 0.1 > 0.7 ? True, although we expected False\n",
      "0.8 - 0.1 = 0.7000000000000001 > 0.7\n"
     ]
    }
   ],
   "source": [
    "print(\"Case No.1\")\n",
    "x = 0.1\n",
    "y = 0.2\n",
    "z = 0.3\n",
    "bool = 0.1 + 0.2 == 0.3\n",
    "print(f'{x} + {y} == {z} ? {bool}, although we expected {not bool}')\n",
    "print(f'{x} + {y} = {x+y} != {z}')\n",
    "\n",
    "print(\"Case No.2\")\n",
    "x = 0.8\n",
    "y = 0.1\n",
    "z = 0.7\n",
    "bool = 0.8 - 0.1 > 0.7\n",
    "print(f'{x} - {y} > {z} ? {bool}, although we expected {not bool}')\n",
    "print(f'{x} - {y} = {x-y} > {z}')"
   ]
  },
  {
   "cell_type": "markdown",
   "metadata": {},
   "source": [
    "we typically have floating point representation errors"
   ]
  },
  {
   "cell_type": "code",
   "execution_count": 13,
   "metadata": {},
   "outputs": [
    {
     "name": "stdout",
     "output_type": "stream",
     "text": [
      "0.1 = 0.10000000000000001, 0.2 = 0.20000000000000001, 0.3 = 0.29999999999999999\n",
      "5.551115123125783e-17\n"
     ]
    }
   ],
   "source": [
    "print('0.1 = {:.17g}, 0.2 = {:.17g}, 0.3 = {:.17g}'.format(0.1, 0.2, 0.3))\n",
    "print(np.abs(0.1+0.2 - 0.3))"
   ]
  },
  {
   "cell_type": "markdown",
   "metadata": {},
   "source": [
    "So, in this case, $ 0.1 + 0.2 \\neq 0.3 $."
   ]
  },
  {
   "cell_type": "markdown",
   "metadata": {},
   "source": [
    "The math.isclose() function in Python is used to check if two floating-point numbers are approximately equal within a specified tolerance. The abs_tol parameter allows you to set a custom absolute tolerance value for the comparison. This tolerance is used to determine how close the numbers need to be to be considered \"close enough.\"\n",
    "\n",
    "כלומר, אנחנו מגדירים את רמת הקירבה בין שני מספרים כך שהמחשב יתיחס אליהם כשווים."
   ]
  },
  {
   "cell_type": "code",
   "execution_count": 15,
   "metadata": {},
   "outputs": [],
   "source": [
    "def isclose(a, b, rel_tol=1e-09, abs_tol=0.0):\n",
    "    return abs(a-b) <= max(rel_tol * max(abs(a), abs(b)), abs_tol)"
   ]
  },
  {
   "cell_type": "markdown",
   "metadata": {},
   "source": [
    "##### Single/double precision\n",
    "\n",
    "Single and double precision are terms used to describe the precision or the number of bits used to represent floating-point numbers in a computer's memory. These terms are commonly associated with floating-point data types used in computer programming and scientific computation.\n",
    "\n",
    "כלומר, מה מספר הביטים המייצגים.\n",
    "בדיוק יחיד, יש 32 ביטים לייצוג. ישנן בערך 7 ספרות מדויקות אחרי הנקודה. \n",
    "בדיוק כפול, יש 64 ביטים לייצוג. ישנן בערך 15-16 ספרות אחרי הנקודה.\n"
   ]
  },
  {
   "cell_type": "code",
   "execution_count": 16,
   "metadata": {},
   "outputs": [
    {
     "name": "stdout",
     "output_type": "stream",
     "text": [
      "False\n"
     ]
    }
   ],
   "source": [
    "a = np.array(0.1)     # double precision\n",
    "a2 = a.astype(np.float32)\n",
    "\n",
    "print(isclose(a,a2))"
   ]
  },
  {
   "cell_type": "markdown",
   "metadata": {},
   "source": [
    "### Lists vs. arrays\n",
    "Lists are essentially arrays of pointers; thus, every object can be located at a different memory location.\n",
    "Arrays on the other hand, are optimized to store information in the same chunk of memory (homogenous)"
   ]
  },
  {
   "cell_type": "code",
   "execution_count": 26,
   "metadata": {},
   "outputs": [
    {
     "name": "stdout",
     "output_type": "stream",
     "text": [
      "\n",
      "Lists vs. Arrays\n",
      "\n",
      "list replication - multiply list by a scalar\n",
      "list before: [1, 2, 3]\n",
      "list after: [1, 2, 3, 1, 2, 3]\n",
      "\n",
      "multiply array by a scalar\n",
      "array before: [1 2 3]\n",
      "array after: [2 4 6]\n"
     ]
    }
   ],
   "source": [
    "print(f'\\nLists vs. Arrays')\n",
    "print()\n",
    "\n",
    "ll = [1, 2, 3]\n",
    "aa = np.array(ll)\n",
    "\n",
    "print(\"list replication - multiply list by a scalar\")\n",
    "print(f'list before: {ll}')\n",
    "ll = 2 * ll\n",
    "print(f'list after: {ll}')\n",
    "print()\n",
    "print(\"multiply array by a scalar\")\n",
    "print(f'array before: {aa}')\n",
    "aa = 2 * aa \n",
    "print(f'array after: {aa}')"
   ]
  },
  {
   "cell_type": "markdown",
   "metadata": {},
   "source": [
    "### 1D and 2D arrays"
   ]
  },
  {
   "cell_type": "code",
   "execution_count": 30,
   "metadata": {},
   "outputs": [
    {
     "name": "stdout",
     "output_type": "stream",
     "text": [
      "\n",
      "1D and 2D arrays\n",
      "\n",
      "aa: [1. 2. 3. 4.]\n",
      "aa2: [0 1 2 3 4]\n",
      "aa3: [0.   0.25 0.5  0.75 1.  ]\n",
      "\n",
      "AA:\n",
      "[[1. 2. 3.]\n",
      " [4. 5. 6.]]\n",
      "AA2:\n",
      "[[0.41857276 0.95353396 0.11307623]\n",
      " [0.26976737 0.54910242 0.69105104]]\n",
      "AA3:\n",
      "[[1. 0. 0.]\n",
      " [0. 1. 0.]\n",
      " [0. 0. 1.]]\n"
     ]
    }
   ],
   "source": [
    "print(f'\\n1D and 2D arrays')\n",
    "print()\n",
    "\n",
    "aa = np.array([1, 2, 3, 4], dtype=np.float32)\n",
    "aa2 = np.arange(5)\n",
    "aa3 = np.linspace(0, 1, 5) # [0,1] with 5 points (devided to 5-1=4).\n",
    "\n",
    "print(f'aa: {aa}')\n",
    "print(f'aa2: {aa2}')\n",
    "print(f'aa3: {aa3}')\n",
    "print()\n",
    "\n",
    "# numpy is row major, i.e., matrices are generated in row-major order\n",
    "AA = np.array([[1, 2, 3], [4, 5, 6]], dtype=np.float32)\n",
    "AA2 = np.random.rand(2, 3) # arguments are the size.\n",
    "AA3 = np.eye(3) # generate ID matrix.\n",
    "\n",
    "print('AA:')\n",
    "print(AA)\n",
    "print('AA2:')\n",
    "print(AA2)\n",
    "print('AA3:')\n",
    "print(AA3)"
   ]
  },
  {
   "cell_type": "markdown",
   "metadata": {},
   "source": [
    "### Shape of arrays: shape, size, reshape, flatten, transpose\n",
    "1. Shape is the numbers of rows and columns.\n",
    "2. Size is the number of overall cells.\n",
    "3. Reshape changes the numbers of rows and columns. But, the order of the cell from top left is preserved.\n",
    "    When reshape, the number of cells (size)  should be kept and the arguments must divide the overall size. We can put -1 in the argument insted of being specific.\n",
    "4. Flatten change the matrix into a vector. the numbers in the vector are order according to the matrix from top left.\n",
    "5. Transpose.\n"
   ]
  },
  {
   "cell_type": "code",
   "execution_count": 51,
   "metadata": {},
   "outputs": [
    {
     "name": "stdout",
     "output_type": "stream",
     "text": [
      "\n",
      "Shape of arrays\n",
      "\n",
      "Shape of AA: (2, 3), rows=2, columns=3\n",
      "Size of AA: 6\n",
      "\n",
      "AA:\n",
      "[[1. 0. 3.]\n",
      " [4. 5. 6.]]\n",
      "\n",
      "after flat AA: [1. 0. 3. 4. 5. 6.]\n",
      "\n",
      "after ravel AA: [1. 0. 3. 4. 5. 6.]\n",
      "\n",
      "after flat AA: [1. 0. 3. 4. 5. 6.]\n",
      "after ravel AA: [1. 0. 3. 4. 5. 6.]\n",
      "transpose AA :\n",
      "[[1. 4.]\n",
      " [0. 5.]\n",
      " [3. 6.]]\n"
     ]
    }
   ],
   "source": [
    "print(f'\\nShape of arrays')\n",
    "print()\n",
    "\n",
    "print(f'Shape of AA: {AA.shape}, rows={AA.shape[0]}, columns={AA.shape[1]}')\n",
    "print(f'Size of AA: {AA.size}')\n",
    "print()\n",
    "\n",
    "print('AA:')\n",
    "print(AA)\n",
    "print()\n",
    "\n",
    "AAr = np.reshape(AA, (3, 2))\n",
    "print(f'reshaped AA (AAr):')\n",
    "print(AAr)\n",
    "print()\n",
    "\n",
    "AAr2 = np.reshape(AA, (3, -1))\n",
    "print(f'reshaped AA (AAr2):')\n",
    "print(AAr2) \n",
    "print()  \n",
    "\n",
    "AAr3 = AA.flatten()\n",
    "print(f'after flat AA: {AAr3}')\n",
    "print()\n",
    "\n",
    "AAr4 = AA.ravel()\n",
    "print(f'after ravel AA: {AAr4}')\n",
    "print()\n",
    "\n",
    "AAt = AA.T\n",
    "print('transpose AA :')\n",
    "print(AAt)"
   ]
  },
  {
   "cell_type": "markdown",
   "metadata": {},
   "source": [
    "### Slicing 1D & 2D arrays"
   ]
  },
  {
   "cell_type": "code",
   "execution_count": 62,
   "metadata": {},
   "outputs": [
    {
     "name": "stdout",
     "output_type": "stream",
     "text": [
      "\n",
      "Slicing 1D and 2D arrays\n",
      "\n",
      "array aa = [1 2 3 4 5 6]\n",
      "\n",
      "sliced array aa[1:5:2] = [2 4]\n",
      "\n",
      "negative slicing aa[-1] = 6\n",
      "\n",
      "array AA:\n",
      "[[1 2 3]\n",
      " [4 5 6]]\n",
      "\n",
      "AA[0,0] = 1\n",
      "\n",
      "Second column values [:, 1::2]:\n",
      "[[2]\n",
      " [5]]\n",
      "\n",
      "Arbitrary values [0:1, 1:3]: [[2 3]]\n"
     ]
    }
   ],
   "source": [
    "print(f'\\nSlicing 1D and 2D arrays')\n",
    "print()\n",
    "\n",
    "aa = np.array([1, 2, 3, 4, 5, 6])\n",
    "print(f'array aa = {aa}')\n",
    "print()\n",
    "print(f'sliced array aa[1:5:2] = {aa[1:5:2]}')  # start:end:step, end index excluded\n",
    "print()\n",
    "print(f'negative slicing aa[-1] = {aa[-1]}') # value of the last cell\n",
    "print()\n",
    "\n",
    "AA = np.array([[1, 2, 3], [4, 5, 6]])\n",
    "print('array AA:')\n",
    "print(AA)\n",
    "print()\n",
    "print(f'AA[0,0] = {AA[0,0]}')\n",
    "print()\n",
    "print('Second column values [:, 1::2]:')\n",
    "print(AA[:,1::2])\n",
    "print()\n",
    "print(f'Arbitrary values [0:1, 1:3]: {AA[0:1,1:3]}') # only row number 0, column number 1,2"
   ]
  },
  {
   "cell_type": "markdown",
   "metadata": {},
   "source": [
    "### Broadcasting"
   ]
  },
  {
   "cell_type": "code",
   "execution_count": 72,
   "metadata": {},
   "outputs": [
    {
     "name": "stdout",
     "output_type": "stream",
     "text": [
      "aa = [1. 2. 3.]\n",
      "bb = [2. 2. 2.]\n",
      "aa * bb = [2. 4. 6.]\n",
      "\n",
      "aa =\n",
      "[[ 0.  0.  0.]\n",
      " [10. 10. 10.]\n",
      " [20. 20. 20.]\n",
      " [30. 30. 30.]]\n",
      "bb = [1. 2. 3.]\n",
      "\n",
      "aa + bb =\n",
      "[[ 1.  2.  3.]\n",
      " [11. 12. 13.]\n",
      " [21. 22. 23.]\n",
      " [31. 32. 33.]]\n",
      "\n",
      "aa = [ 0. 10. 20. 30.]\n",
      "bb = [1. 2. 3.]\n",
      "\n",
      "aa + bb =\n",
      "[[ 1.  2.  3.]\n",
      " [11. 12. 13.]\n",
      " [21. 22. 23.]\n",
      " [31. 32. 33.]]\n"
     ]
    }
   ],
   "source": [
    "aa = np.array([1.0, 2.0, 3.0])\n",
    "bb = np.array([2.0, 2.0, 2.0])\n",
    "print(f'aa = {aa}')\n",
    "print(f'bb = {bb}')\n",
    "print(f'aa * bb = {aa*bb}')\n",
    "print()\n",
    "\n",
    "aa = np.array([[ 0.0,  0.0,  0.0],\n",
    "               [10.0, 10.0, 10.0],\n",
    "               [20.0, 20.0, 20.0],\n",
    "               [30.0, 30.0, 30.0]])\n",
    "bb = np.array([1.0, 2.0, 3.0])\n",
    "print('aa =')\n",
    "print(aa)\n",
    "print(f'bb = {bb}')\n",
    "print()\n",
    "\n",
    "print('aa + bb =')\n",
    "print(aa + bb.T)\n",
    "print()\n",
    "\n",
    "bb = np.array([1.0, 2.0, 3.0, 4.0])\n",
    "# print(f'aa + bb = {aa + bb}')\t\t\t# should give a broadcasting error\n",
    "\n",
    "aa = np.array([0.0, 10.0, 20.0, 30.0])\n",
    "bb = np.array([1.0, 2.0, 3.0])\n",
    "print(f'aa = {aa}')\n",
    "print(f'bb = {bb}')\n",
    "print()\n",
    "\n",
    "print('aa + bb =')\n",
    "print(aa[:, np.newaxis] + bb)"
   ]
  },
  {
   "cell_type": "markdown",
   "metadata": {},
   "source": [
    "### Randomness"
   ]
  },
  {
   "cell_type": "code",
   "execution_count": 81,
   "metadata": {},
   "outputs": [
    {
     "name": "stdout",
     "output_type": "stream",
     "text": [
      "random numbers: a1 = [72], a2 = [12], b1 = [40], b2 = [15]\n"
     ]
    }
   ],
   "source": [
    "np.random.seed(1)\n",
    "\n",
    "a1 = np.random.randint(100, size=1)\n",
    "a2 = np.random.randint(100, size=1)\n",
    "\n",
    "np.random.seed(2)\n",
    "\n",
    "b1 = np.random.randint(100, size=1)\n",
    "b2 = np.random.randint(100, size=1)\n",
    "print(f'random numbers: a1 = {a1}, a2 = {a2}, b1 = {b1}, b2 = {b2}')"
   ]
  },
  {
   "cell_type": "markdown",
   "metadata": {},
   "source": [
    "### Vector-matrix operations"
   ]
  },
  {
   "cell_type": "code",
   "execution_count": 91,
   "metadata": {},
   "outputs": [
    {
     "name": "stdout",
     "output_type": "stream",
     "text": [
      "[[0.46421235 0.41466826 0.29133772 0.32352851]\n",
      " [0.21159758 0.28026829 0.11710504 0.68925187]\n",
      " [0.64452619 0.3115294  0.88029896 0.38637573]\n",
      " [0.6110893  0.52316933 0.3250568  0.92979042]\n",
      " [0.84820141 0.84112295 0.95428864 0.00248243]]\n",
      "\n",
      "AA.T = [[0.46421235 0.21159758 0.64452619 0.6110893  0.84820141]\n",
      " [0.41466826 0.28026829 0.3115294  0.52316933 0.84112295]\n",
      " [0.29133772 0.11710504 0.88029896 0.3250568  0.95428864]\n",
      " [0.32352851 0.68925187 0.38637573 0.92979042 0.00248243]]\n",
      "\n",
      "aa = [0.4921191  0.93791312 0.13442676 0.24499414 0.50506192 0.67842151\n",
      " 0.33275996 0.30636467]\n",
      "bb = [0.77579791 0.03285394 0.78579786 0.42854028 0.62900946 0.70550302\n",
      " 0.09846863 0.90384616]\n",
      "\n",
      "<a, b> = 1.7292\n",
      "\n",
      "a * b = [0.38178497 0.03081414 0.10563226 0.10498986 0.31768872 0.47862843\n",
      " 0.03276642 0.27690653]\n",
      "\n"
     ]
    }
   ],
   "source": [
    "mm, nn, oo = 5, 4, 3\n",
    "AA = np.random.rand(mm, nn) # random matrix of size mmxnn\n",
    "print(AA)\n",
    "print()\n",
    "print(f'AA.T = {AA.T}')\n",
    "print()\n",
    "\n",
    "aa, bb = np.random.rand(8), np.random.rand(8) # 8 enterances vector.\n",
    "print (f'aa = {aa}')\n",
    "print (f'bb = {bb}')\n",
    "print()\n",
    "\n",
    "print('<a, b> = {:.4f}'.format(aa @ bb))\n",
    "print()\n",
    "\n",
    "print('a * b = {:}'.format(aa * bb))\n",
    "print()\n"
   ]
  },
  {
   "cell_type": "code",
   "execution_count": 92,
   "metadata": {},
   "outputs": [
    {
     "name": "stdout",
     "output_type": "stream",
     "text": [
      "HW-based time = 0.000e+00, SW-based time = 1.037e-03, diff = 1.360e-16\n"
     ]
    }
   ],
   "source": [
    "BB = np.random.rand(nn, oo)\n",
    "\n",
    "start1 = time.time()\n",
    "CC1 = AA @ BB\n",
    "end1 = time.time()\n",
    "\n",
    "start2 = time.time()\n",
    "CC2 = np.zeros((mm, oo))\n",
    "for ii in range(mm):\n",
    "    for jj in range(oo):\n",
    "        for kk in range(nn):\n",
    "            CC2[ii, jj] += AA[ii, kk] * BB[kk, jj]\n",
    "end2 = time.time()\n",
    "print('HW-based time = {:.3e}, SW-based time = {:.3e}, diff = {:.3e}'.format(end1-start1, end2-start2, np.linalg.norm(CC1-CC2)))\n"
   ]
  },
  {
   "cell_type": "markdown",
   "metadata": {},
   "source": [
    "### Matrix inverse\n",
    "\n",
    "calculate $|AA^{-1} -I|_F $"
   ]
  },
  {
   "cell_type": "code",
   "execution_count": 97,
   "metadata": {},
   "outputs": [
    {
     "name": "stdout",
     "output_type": "stream",
     "text": [
      "AA:\n",
      "[[0.01875815 0.09163641]\n",
      " [0.34120996 0.22030166]]\n",
      "AAI:\n",
      "[[-8.11878507  3.3770801 ]\n",
      " [12.57462329 -0.69129468]]\n",
      "\n",
      "|AA @ AAI - I|_F = 6.011e-17\n",
      "\n",
      "|AA2 @ AAI2 - I|_F = 1.955e-07\n"
     ]
    }
   ],
   "source": [
    "AA = np.random.rand(2, 2)\n",
    "AAI = np.linalg.inv(AA)\n",
    "print(\"AA:\")\n",
    "print(AA)\n",
    "print(\"AAI:\")\n",
    "print(AAI)\n",
    "print()\n",
    "\n",
    "print('|AA @ AAI - I|_F = {:.3e}'.format(np.linalg.norm(AA @ AAI - np.eye(2))))\n",
    "print()\n",
    "\n",
    "# convert to float32 and show diff\n",
    "AA2 = AA.astype(np.float32)\n",
    "AAI2 = np.linalg.inv(AA2)\n",
    "print('|AA2 @ AAI2 - I|_F = {:.3e}'.format(np.linalg.norm(AA2 @ AAI2 - np.eye(2))))"
   ]
  },
  {
   "cell_type": "markdown",
   "metadata": {},
   "source": [
    "### Matrix decompositions\n",
    "\n",
    "\n",
    "##### Eigendecomposing\n",
    "\n",
    "calculate $ |A - (V\\cdot\\Delta\\cdot V^{-1})|_F $ \n",
    "where $V\\cdot\\Delta\\cdot V^{-1}$ is the eigendecomposing of $A$\n",
    "\n",
    "plot the eigenvalues of AA in the complex plane. the blue is the unit circle. This visualization can be helpful in understanding the distribution of eigenvalues.\n",
    "\n",
    "##### SVD\n",
    "\n",
    "calculate $ |A - (U\\cdot D \\cdot V^{T})|_F $ \n",
    "where $U\\cdot D \\cdot V^{T}$ is the SVD of $A$\n",
    "\n",
    "plot the singular values of AA.\n",
    "\n",
    "performing an analysis of the approximation error when reconstructing the original matrix AA using truncated SVD. useful for understanding how well the approximation of the original matrix AA using truncated SVD converges as more singular vectors are included in the approximation"
   ]
  },
  {
   "cell_type": "code",
   "execution_count": 111,
   "metadata": {},
   "outputs": [
    {
     "name": "stdout",
     "output_type": "stream",
     "text": [
      "dd shape = (50,), VV shape = (50, 50)\n",
      "\n",
      "dd dtype = complex128, VV dtype = complex128\n",
      "\n",
      "AA - VV @ diag(DD) @ inv(VV) = 2.071e-13\n",
      "\n"
     ]
    },
    {
     "data": {
      "image/png": "[encoded data removed]",
      "text/plain": [
       "<Figure size 640x480 with 1 Axes>"
      ]
     },
     "metadata": {},
     "output_type": "display_data"
    },
    {
     "name": "stdout",
     "output_type": "stream",
     "text": [
      "|AA - UU @ diag(ss) @ VVt| = 5.134e-14\n"
     ]
    },
    {
     "data": {
      "image/png": "[encoded data removed]",
      "text/plain": [
       "<Figure size 640x480 with 1 Axes>"
      ]
     },
     "metadata": {},
     "output_type": "display_data"
    },
    {
     "data": {
      "image/png": "[encoded data removed]",
      "text/plain": [
       "<Figure size 640x480 with 1 Axes>"
      ]
     },
     "metadata": {},
     "output_type": "display_data"
    }
   ],
   "source": [
    "mm = 50\n",
    "AA = np.random.rand(mm, mm)\n",
    "\n",
    "dd, VV = np.linalg.eig(AA)\n",
    "# dd - array that stores the eigenvalues.\n",
    "# W - matrix that stores the correspondes eigenvectors. Each columns is a vector.\n",
    "print('dd shape = {}, VV shape = {}'.format(dd.shape, VV.shape))\n",
    "print()\n",
    "print('dd dtype = {}, VV dtype = {}'.format(dd.dtype, VV.dtype))\n",
    "print()\n",
    "\n",
    "print('AA - VV @ diag(DD) @ inv(VV) = {:.3e}'.format(np.linalg.norm(AA - VV @ np.diag(dd) @ np.linalg.inv(VV))))\n",
    "print()\n",
    "\n",
    "# print the eigenvalues of AA in the complex plane. the blue is the unit circle. This visualization can be helpful in understanding the distribution of eigenvalues\n",
    "t = np.linspace(0, np.pi*2, 100)\n",
    "plt.plot(np.cos(t), np.sin(t), linewidth=1)\n",
    "plt.plot(np.real(dd), np.imag(dd), '.')\n",
    "plt.xlabel('real')\n",
    "plt.ylabel('imag')\n",
    "plt.title('Eigenvalues')\n",
    "plt.gca().axis('equal')\n",
    "plt.show()\n",
    "\n",
    "UU, ss, VVt = np.linalg.svd(AA)\n",
    "print('|AA - UU @ diag(ss) @ VVt| = {:.3e}'.format(np.linalg.norm(AA - UU @ np.diag(ss) @ VVt)))\n",
    "\n",
    "plt.plot(ss, '.')\n",
    "plt.title('Singular Values')\n",
    "plt.show()\n",
    "\n",
    "# approximate matrix\n",
    "err = np.zeros(mm)\n",
    "for kk in range(mm):\n",
    "    UUk = UU[:, :kk+1]\n",
    "    AAk = UUk @ (UUk.T @ AA)\n",
    "    # AAk = UU[:, :kk] @ np.diag(ss[:kk]) @ VVt[:kk]\n",
    "    err[kk] = np.linalg.norm(AAk-AA)\n",
    "\n",
    "plt.plot(err)\n",
    "plt.xlabel('k')\n",
    "plt.ylabel('$|AAk-AA|_F$')\n",
    "plt.yscale('log')\n",
    "plt.show()\n"
   ]
  }
 ],
 "metadata": {
  "kernelspec": {
   "display_name": "adl",
   "language": "python",
   "name": "python3"
  },
  "language_info": {
   "codemirror_mode": {
    "name": "ipython",
    "version": 3
   },
   "file_extension": ".py",
   "mimetype": "text/x-python",
   "name": "python",
   "nbconvert_exporter": "python",
   "pygments_lexer": "ipython3",
   "version": "3.8.16"
  },
  "orig_nbformat": 4
 },
 "nbformat": 4,
 "nbformat_minor": 2
}
