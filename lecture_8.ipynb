{
 "cells": [
  {
   "cell_type": "code",
   "execution_count": 3,
   "metadata": {},
   "outputs": [],
   "source": [
    "import torch\n",
    "import torch.nn as nn\n",
    "import torch.nn.functional as F\n",
    "import torch.optim as optim\n",
    "import torch.utils.data as data\n",
    "\n",
    "import torchvision.transforms as transforms\n",
    "import torchvision.datasets as datasets\n",
    "\n",
    "import numpy as np\n",
    "from tqdm import tqdm"
   ]
  },
  {
   "cell_type": "code",
   "execution_count": 4,
   "metadata": {},
   "outputs": [
    {
     "name": "stdout",
     "output_type": "stream",
     "text": [
      "Files already downloaded and verified\n"
     ]
    }
   ],
   "source": [
    "root = './data/'\n",
    "num_classes = 10\n",
    "train_data = datasets.CIFAR10(root=root, train=True, download=True)"
   ]
  },
  {
   "cell_type": "markdown",
   "metadata": {},
   "source": [
    "We compute the mean and std in each channel (in RGB there are 3).  \n",
    "We divide by 255 because the values era in range 0-255, and we want the range to be 0-1."
   ]
  },
  {
   "cell_type": "code",
   "execution_count": 5,
   "metadata": {},
   "outputs": [
    {
     "name": "stdout",
     "output_type": "stream",
     "text": [
      "Mean [0.49139968 0.48215841 0.44653091], STD [0.24703223 0.24348513 0.26158784]\n"
     ]
    }
   ],
   "source": [
    "means = train_data.data.mean(axis=(0, 1, 2)) / 255\n",
    "stds = train_data.data.std(axis=(0, 1, 2)) / 255\n",
    "print(f'Mean {means}, STD {stds}')"
   ]
  },
  {
   "cell_type": "code",
   "execution_count": 6,
   "metadata": {},
   "outputs": [],
   "source": [
    "# Optional: rotation & flip for train\n",
    "transform = transforms.Compose([\n",
    "\ttransforms.ToTensor(),\n",
    "\ttransforms.Normalize(mean=means, std=stds)])\n",
    "\n",
    "train_data = datasets.CIFAR10(root=root, train=True, transform=transform)\n",
    "test_data = datasets.CIFAR10(root=root, train=False, transform=transform)"
   ]
  },
  {
   "cell_type": "code",
   "execution_count": 7,
   "metadata": {},
   "outputs": [
    {
     "name": "stdout",
     "output_type": "stream",
     "text": [
      "#train=45000, #valid=5000, #test=10000\n"
     ]
    }
   ],
   "source": [
    "# Extract validation data\n",
    "valid_ratio = 0.9\n",
    "n_train_examples = int(len(train_data) * valid_ratio)\n",
    "n_valid_examples = len(train_data) - n_train_examples\n",
    "train_data, valid_data = data.random_split(train_data, \n",
    "\t[n_train_examples, n_valid_examples])\n",
    "print(f'#train={len(train_data)}, #valid={len(valid_data)}, #test={len(test_data)}')"
   ]
  },
  {
   "cell_type": "code",
   "execution_count": 8,
   "metadata": {},
   "outputs": [],
   "source": [
    "batch_size = 256\n",
    "train_loader = data.DataLoader(train_data, shuffle=True, batch_size=batch_size)\n",
    "valid_loader = data.DataLoader(valid_data, batch_size=batch_size)\n",
    "test_loader = data.DataLoader(test_data, batch_size=batch_size)"
   ]
  },
  {
   "cell_type": "code",
   "execution_count": 12,
   "metadata": {},
   "outputs": [],
   "source": [
    "class LeNet5(nn.Module):\n",
    "\tdef __init__(self, output_dim):\n",
    "\t\tsuper().__init__()\n",
    "\n",
    "\t\tself.conv1 = nn.Conv2d(in_channels=3,\n",
    "\t\t\t\t\t\t\t   out_channels=6,\n",
    "\t\t\t\t\t\t\t   kernel_size=5)\n",
    "\t\tself.conv2 = nn.Conv2d(in_channels=6,\n",
    "\t\t\t\t\t\t\t   out_channels=16,\n",
    "\t\t\t\t\t\t\t   kernel_size=5)\n",
    "\n",
    "\t\tself.fc1 = nn.Linear(16 * 5 * 5, 120)\n",
    "\t\tself.fc2 = nn.Linear(120, 84)\n",
    "\t\tself.fc3 = nn.Linear(84, output_dim)\n",
    "\n",
    "\t\tself.pool = nn.AvgPool2d(2, 2)\n",
    "\t\tself.relu = nn.ReLU(inplace=True)\n",
    "\n",
    "\tdef forward(self, x):\n",
    "\t\tx = self.relu(self.pool(self.conv1(x)))\n",
    "\t\tx = self.relu(self.pool(self.conv2(x)))\n",
    "\t\tx = torch.flatten(x, 1)\n",
    "\t\tx = F.relu(self.fc1(x))\t\t# orig LeNet5 used sigmoid\n",
    "\t\tx = F.relu(self.fc2(x))\t\t# orig LeNet5 used sigmoid\n",
    "\t\tx = self.fc3(x)\n",
    "\t\treturn x"
   ]
  },
  {
   "cell_type": "code",
   "execution_count": 15,
   "metadata": {},
   "outputs": [],
   "source": [
    "class AlexNet(nn.Module):\n",
    "\tdef __init__(self, output_dim):\n",
    "\t\tsuper().__init__()\n",
    "\n",
    "\t\t# channels 96, 256, 384, 384, 256\n",
    "\t\tself.conv1 = nn.Conv2d(3, 96, 3, 2, 1) \t# in_c, out_c, kernel_size, stride, padding\n",
    "\t\tself.conv2 = nn.Conv2d(96, 256, 3, padding=1)\n",
    "\t\tself.conv3 = nn.Conv2d(256, 384, 3, padding=1)\n",
    "\t\tself.conv4 = nn.Conv2d(384, 384, 3, padding=1)\n",
    "\t\tself.conv5 = nn.Conv2d(384, 256, 3, padding=1)\n",
    "\n",
    "\t\tself.fc1 = nn.Linear(256 * 2 * 2, 4096)\n",
    "\t\tself.fc2 = nn.Linear(4096, 4096)\n",
    "\t\tself.fc3 = nn.Linear(4096, output_dim)\n",
    "\n",
    "\t\tself.pool = nn.MaxPool2d(2, 2)\n",
    "\t\tself.relu = nn.ReLU(inplace=True)\n",
    "\t\tself.dropout = nn.Dropout(0.5)\n",
    "\n",
    "\tdef forward(self, x):\n",
    "\t\tx = self.relu(self.pool(self.conv1(x)))\n",
    "\t\tx = self.relu(self.pool(self.conv2(x)))\n",
    "\t\tx = self.relu(self.conv3(x))\n",
    "\t\tx = self.relu(self.conv4(x))\n",
    "\t\tx = self.relu(self.pool(self.conv5(x)))\n",
    "\t\tx = torch.flatten(x, 1)\n",
    "\t\tx = self.relu(self.fc1(self.dropout(x)))\n",
    "\t\tx = self.relu(self.fc2(self.dropout(x)))\n",
    "\t\tx = self.fc3(x)\n",
    "\n",
    "\t\treturn x"
   ]
  },
  {
   "cell_type": "code",
   "execution_count": 17,
   "metadata": {},
   "outputs": [
    {
     "name": "stdout",
     "output_type": "stream",
     "text": [
      "The model has 24,342,410 trainable parameters\n"
     ]
    }
   ],
   "source": [
    "model_name = 'AlexNet'\n",
    "if model_name == 'LeNet5':\n",
    "\tmodel = LeNet5(output_dim=num_classes)\n",
    "elif model_name == 'AlexNet':\n",
    "\tmodel = AlexNet(output_dim=num_classes)\n",
    "\n",
    "def count_parameters(model):\n",
    "\treturn sum(p.numel() for p in model.parameters() if p.requires_grad)\n",
    "\n",
    "def get_device():\n",
    "\tdevice = torch.device('cuda' if torch.cuda.is_available() else 'cpu')\n",
    "\treturn device\n",
    "\n",
    "print(f'The model has {count_parameters(model):,} trainable parameters')"
   ]
  },
  {
   "cell_type": "code",
   "execution_count": 18,
   "metadata": {},
   "outputs": [
    {
     "name": "stderr",
     "output_type": "stream",
     "text": [
      "100%|██████████| 176/176 [02:39<00:00,  1.11it/s]\n",
      "100%|██████████| 20/20 [00:06<00:00,  3.12it/s]\n"
     ]
    },
    {
     "name": "stdout",
     "output_type": "stream",
     "text": [
      "\tTrain Loss: 1.863 | Train Acc: 29.79%\n",
      "\t Val. Loss: 1.554 |  Val. Acc: 41.16%\n"
     ]
    },
    {
     "name": "stderr",
     "output_type": "stream",
     "text": [
      "100%|██████████| 176/176 [03:02<00:00,  1.04s/it]\n",
      "100%|██████████| 20/20 [00:06<00:00,  2.99it/s]\n"
     ]
    },
    {
     "name": "stdout",
     "output_type": "stream",
     "text": [
      "\tTrain Loss: 1.476 | Train Acc: 45.14%\n",
      "\t Val. Loss: 1.353 |  Val. Acc: 49.56%\n"
     ]
    },
    {
     "name": "stderr",
     "output_type": "stream",
     "text": [
      "100%|██████████| 176/176 [02:57<00:00,  1.01s/it]\n",
      "100%|██████████| 20/20 [00:07<00:00,  2.60it/s]\n"
     ]
    },
    {
     "name": "stdout",
     "output_type": "stream",
     "text": [
      "\tTrain Loss: 1.304 | Train Acc: 52.49%\n",
      "\t Val. Loss: 1.258 |  Val. Acc: 54.25%\n"
     ]
    },
    {
     "name": "stderr",
     "output_type": "stream",
     "text": [
      "100%|██████████| 176/176 [02:55<00:00,  1.00it/s]\n",
      "100%|██████████| 20/20 [00:06<00:00,  3.24it/s]\n"
     ]
    },
    {
     "name": "stdout",
     "output_type": "stream",
     "text": [
      "\tTrain Loss: 1.177 | Train Acc: 57.20%\n",
      "\t Val. Loss: 1.180 |  Val. Acc: 56.48%\n"
     ]
    },
    {
     "name": "stderr",
     "output_type": "stream",
     "text": [
      "100%|██████████| 176/176 [03:01<00:00,  1.03s/it]\n",
      "100%|██████████| 20/20 [00:07<00:00,  2.50it/s]\n"
     ]
    },
    {
     "name": "stdout",
     "output_type": "stream",
     "text": [
      "\tTrain Loss: 1.072 | Train Acc: 61.39%\n",
      "\t Val. Loss: 1.071 |  Val. Acc: 60.91%\n"
     ]
    },
    {
     "name": "stderr",
     "output_type": "stream",
     "text": [
      "100%|██████████| 176/176 [02:53<00:00,  1.01it/s]\n",
      "100%|██████████| 20/20 [00:07<00:00,  2.71it/s]\n"
     ]
    },
    {
     "name": "stdout",
     "output_type": "stream",
     "text": [
      "\tTrain Loss: 0.997 | Train Acc: 64.23%\n",
      "\t Val. Loss: 1.035 |  Val. Acc: 62.30%\n"
     ]
    },
    {
     "name": "stderr",
     "output_type": "stream",
     "text": [
      "100%|██████████| 176/176 [02:54<00:00,  1.01it/s]\n",
      "100%|██████████| 20/20 [00:06<00:00,  3.08it/s]\n"
     ]
    },
    {
     "name": "stdout",
     "output_type": "stream",
     "text": [
      "\tTrain Loss: 0.914 | Train Acc: 67.24%\n",
      "\t Val. Loss: 0.988 |  Val. Acc: 64.42%\n"
     ]
    },
    {
     "name": "stderr",
     "output_type": "stream",
     "text": [
      "100%|██████████| 176/176 [02:46<00:00,  1.06it/s]\n",
      "100%|██████████| 20/20 [00:07<00:00,  2.63it/s]\n"
     ]
    },
    {
     "name": "stdout",
     "output_type": "stream",
     "text": [
      "\tTrain Loss: 0.830 | Train Acc: 70.22%\n",
      "\t Val. Loss: 0.947 |  Val. Acc: 67.33%\n"
     ]
    },
    {
     "name": "stderr",
     "output_type": "stream",
     "text": [
      "100%|██████████| 176/176 [02:53<00:00,  1.02it/s]\n",
      "100%|██████████| 20/20 [00:06<00:00,  3.11it/s]\n"
     ]
    },
    {
     "name": "stdout",
     "output_type": "stream",
     "text": [
      "\tTrain Loss: 0.747 | Train Acc: 73.40%\n",
      "\t Val. Loss: 0.930 |  Val. Acc: 68.02%\n"
     ]
    },
    {
     "name": "stderr",
     "output_type": "stream",
     "text": [
      "100%|██████████| 176/176 [02:50<00:00,  1.03it/s]\n",
      "100%|██████████| 20/20 [00:06<00:00,  3.05it/s]\n"
     ]
    },
    {
     "name": "stdout",
     "output_type": "stream",
     "text": [
      "\tTrain Loss: 0.688 | Train Acc: 75.65%\n",
      "\t Val. Loss: 0.916 |  Val. Acc: 69.46%\n"
     ]
    },
    {
     "name": "stderr",
     "output_type": "stream",
     "text": [
      "100%|██████████| 176/176 [02:53<00:00,  1.01it/s]\n",
      "100%|██████████| 20/20 [00:07<00:00,  2.63it/s]\n"
     ]
    },
    {
     "name": "stdout",
     "output_type": "stream",
     "text": [
      "\tTrain Loss: 0.598 | Train Acc: 78.86%\n",
      "\t Val. Loss: 0.914 |  Val. Acc: 69.95%\n"
     ]
    },
    {
     "name": "stderr",
     "output_type": "stream",
     "text": [
      "100%|██████████| 176/176 [02:53<00:00,  1.01it/s]\n",
      "100%|██████████| 20/20 [00:06<00:00,  2.92it/s]\n"
     ]
    },
    {
     "name": "stdout",
     "output_type": "stream",
     "text": [
      "\tTrain Loss: 0.529 | Train Acc: 81.39%\n",
      "\t Val. Loss: 0.910 |  Val. Acc: 70.38%\n"
     ]
    },
    {
     "name": "stderr",
     "output_type": "stream",
     "text": [
      "100%|██████████| 176/176 [02:52<00:00,  1.02it/s]\n",
      "100%|██████████| 20/20 [00:06<00:00,  2.90it/s]\n"
     ]
    },
    {
     "name": "stdout",
     "output_type": "stream",
     "text": [
      "\tTrain Loss: 0.449 | Train Acc: 84.20%\n",
      "\t Val. Loss: 0.943 |  Val. Acc: 71.25%\n"
     ]
    },
    {
     "name": "stderr",
     "output_type": "stream",
     "text": [
      "100%|██████████| 176/176 [02:54<00:00,  1.01it/s]\n",
      "100%|██████████| 20/20 [00:08<00:00,  2.42it/s]\n"
     ]
    },
    {
     "name": "stdout",
     "output_type": "stream",
     "text": [
      "\tTrain Loss: 0.385 | Train Acc: 86.37%\n",
      "\t Val. Loss: 0.993 |  Val. Acc: 70.31%\n"
     ]
    },
    {
     "name": "stderr",
     "output_type": "stream",
     "text": [
      "100%|██████████| 176/176 [03:01<00:00,  1.03s/it]\n",
      "100%|██████████| 20/20 [00:06<00:00,  3.00it/s]\n"
     ]
    },
    {
     "name": "stdout",
     "output_type": "stream",
     "text": [
      "\tTrain Loss: 0.314 | Train Acc: 89.13%\n",
      "\t Val. Loss: 1.022 |  Val. Acc: 70.63%\n"
     ]
    },
    {
     "name": "stderr",
     "output_type": "stream",
     "text": [
      "100%|██████████| 176/176 [02:51<00:00,  1.03it/s]\n",
      "100%|██████████| 20/20 [00:06<00:00,  3.11it/s]\n"
     ]
    },
    {
     "name": "stdout",
     "output_type": "stream",
     "text": [
      "\tTrain Loss: 0.260 | Train Acc: 90.83%\n",
      "\t Val. Loss: 1.106 |  Val. Acc: 70.71%\n"
     ]
    },
    {
     "name": "stderr",
     "output_type": "stream",
     "text": [
      "100%|██████████| 176/176 [02:49<00:00,  1.04it/s]\n",
      "100%|██████████| 20/20 [00:06<00:00,  3.00it/s]\n"
     ]
    },
    {
     "name": "stdout",
     "output_type": "stream",
     "text": [
      "\tTrain Loss: 0.208 | Train Acc: 92.66%\n",
      "\t Val. Loss: 1.163 |  Val. Acc: 70.51%\n"
     ]
    },
    {
     "name": "stderr",
     "output_type": "stream",
     "text": [
      "100%|██████████| 176/176 [03:01<00:00,  1.03s/it]\n",
      "100%|██████████| 20/20 [00:07<00:00,  2.67it/s]\n"
     ]
    },
    {
     "name": "stdout",
     "output_type": "stream",
     "text": [
      "\tTrain Loss: 0.169 | Train Acc: 94.14%\n",
      "\t Val. Loss: 1.287 |  Val. Acc: 70.71%\n"
     ]
    },
    {
     "name": "stderr",
     "output_type": "stream",
     "text": [
      "100%|██████████| 176/176 [03:01<00:00,  1.03s/it]\n",
      "100%|██████████| 20/20 [00:07<00:00,  2.55it/s]\n"
     ]
    },
    {
     "name": "stdout",
     "output_type": "stream",
     "text": [
      "\tTrain Loss: 0.143 | Train Acc: 95.01%\n",
      "\t Val. Loss: 1.357 |  Val. Acc: 70.62%\n"
     ]
    },
    {
     "name": "stderr",
     "output_type": "stream",
     "text": [
      "100%|██████████| 176/176 [02:45<00:00,  1.07it/s]\n",
      "100%|██████████| 20/20 [00:06<00:00,  3.18it/s]\n"
     ]
    },
    {
     "name": "stdout",
     "output_type": "stream",
     "text": [
      "\tTrain Loss: 0.100 | Train Acc: 96.64%\n",
      "\t Val. Loss: 1.428 |  Val. Acc: 70.58%\n"
     ]
    },
    {
     "name": "stderr",
     "output_type": "stream",
     "text": [
      "100%|██████████| 176/176 [02:48<00:00,  1.05it/s]\n",
      "100%|██████████| 20/20 [00:06<00:00,  3.25it/s]\n"
     ]
    },
    {
     "name": "stdout",
     "output_type": "stream",
     "text": [
      "\tTrain Loss: 0.099 | Train Acc: 96.49%\n",
      "\t Val. Loss: 1.331 |  Val. Acc: 71.00%\n"
     ]
    },
    {
     "name": "stderr",
     "output_type": "stream",
     "text": [
      "100%|██████████| 176/176 [02:51<00:00,  1.03it/s]\n",
      "100%|██████████| 20/20 [00:06<00:00,  3.18it/s]\n"
     ]
    },
    {
     "name": "stdout",
     "output_type": "stream",
     "text": [
      "\tTrain Loss: 0.080 | Train Acc: 97.20%\n",
      "\t Val. Loss: 1.500 |  Val. Acc: 71.12%\n"
     ]
    },
    {
     "name": "stderr",
     "output_type": "stream",
     "text": [
      "100%|██████████| 176/176 [02:56<00:00,  1.00s/it]\n",
      "100%|██████████| 20/20 [00:08<00:00,  2.30it/s]\n"
     ]
    },
    {
     "name": "stdout",
     "output_type": "stream",
     "text": [
      "\tTrain Loss: 0.071 | Train Acc: 97.56%\n",
      "\t Val. Loss: 1.624 |  Val. Acc: 70.99%\n"
     ]
    },
    {
     "name": "stderr",
     "output_type": "stream",
     "text": [
      "100%|██████████| 176/176 [02:46<00:00,  1.06it/s]\n",
      "100%|██████████| 20/20 [00:06<00:00,  3.20it/s]\n"
     ]
    },
    {
     "name": "stdout",
     "output_type": "stream",
     "text": [
      "\tTrain Loss: 0.063 | Train Acc: 97.84%\n",
      "\t Val. Loss: 1.658 |  Val. Acc: 71.00%\n"
     ]
    },
    {
     "name": "stderr",
     "output_type": "stream",
     "text": [
      "100%|██████████| 176/176 [02:42<00:00,  1.08it/s]\n",
      "100%|██████████| 20/20 [00:06<00:00,  3.22it/s]"
     ]
    },
    {
     "name": "stdout",
     "output_type": "stream",
     "text": [
      "\tTrain Loss: 0.069 | Train Acc: 97.56%\n",
      "\t Val. Loss: 1.541 |  Val. Acc: 71.03%\n"
     ]
    },
    {
     "name": "stderr",
     "output_type": "stream",
     "text": [
      "\n"
     ]
    }
   ],
   "source": [
    "lr = 1e-4\n",
    "optimizer = optim.Adam(model.parameters(), lr=lr)\n",
    "criterion = nn.CrossEntropyLoss()\n",
    "device = get_device()\n",
    "\n",
    "\n",
    "def calc_acc(y_pred, y):\n",
    "\ttop_pred = y_pred.argmax(1, keepdim=True)\n",
    "\tcorrect = top_pred.eq(y.view_as(top_pred)).sum()\n",
    "\tacc = correct.float() / y.shape[0]\n",
    "\treturn acc\n",
    "\n",
    "\n",
    "def train(model, loader, optimizer, criterion):\n",
    "\tepoch_loss, epoch_acc = 0, 0\n",
    "\n",
    "\tmodel.train()\n",
    "\n",
    "\tfor (x, y) in tqdm(loader):\n",
    "\n",
    "\t\toptimizer.zero_grad()\n",
    "\n",
    "\t\ty_pred = model(x)\n",
    "\t\tloss = criterion(y_pred, y)\t\t\n",
    "\t\tloss.backward()\n",
    "\t\toptimizer.step()\n",
    "\n",
    "\t\tacc = calc_acc(y_pred, y)\n",
    "\n",
    "\t\tepoch_loss += loss.item()\n",
    "\t\tepoch_acc += acc.item()\n",
    "\treturn epoch_loss / len(loader), epoch_acc / len(loader)\n",
    "\n",
    "\n",
    "def evaluate(model, loader, criterion):\n",
    "\n",
    "\tepoch_loss, epoch_acc = 0, 0\n",
    "\n",
    "\tmodel.eval()\n",
    "\n",
    "\twith torch.no_grad():\n",
    "\n",
    "\t\tfor (x, y) in tqdm(loader):\n",
    "\t\t\ty_pred = model(x)\n",
    "\t\t\tloss = criterion(y_pred, y)\n",
    "\t\t\tacc = calc_acc(y_pred, y)\n",
    "\n",
    "\t\t\tepoch_loss += loss.item()\n",
    "\t\t\tepoch_acc += acc.item()\n",
    "\t\treturn epoch_loss / len(loader), epoch_acc / len(loader)\n",
    "\n",
    "\n",
    "epochs = 25\n",
    "best_valid_loss = float('inf')\n",
    "\n",
    "for epoch in range(epochs):\n",
    "\ttrain_loss, train_acc = train(model, train_loader, optimizer, criterion)\n",
    "\tvalid_loss, valid_acc = evaluate(model, valid_loader, criterion)\n",
    "\n",
    "\tif valid_loss < best_valid_loss:\n",
    "\t\tbest_valid_loss = valid_loss\n",
    "\t\ttorch.save(model.state_dict(), model_name + '.pt')\n",
    "\n",
    "\tprint(f'\\tTrain Loss: {train_loss:.3f} | Train Acc: {train_acc*100:.2f}%')\n",
    "\tprint(f'\\t Val. Loss: {valid_loss:.3f} |  Val. Acc: {valid_acc*100:.2f}%')"
   ]
  }
 ],
 "metadata": {
  "kernelspec": {
   "display_name": "adl",
   "language": "python",
   "name": "python3"
  },
  "language_info": {
   "codemirror_mode": {
    "name": "ipython",
    "version": 3
   },
   "file_extension": ".py",
   "mimetype": "text/x-python",
   "name": "python",
   "nbconvert_exporter": "python",
   "pygments_lexer": "ipython3",
   "version": "3.8.16"
  },
  "orig_nbformat": 4
 },
 "nbformat": 4,
 "nbformat_minor": 2
}
